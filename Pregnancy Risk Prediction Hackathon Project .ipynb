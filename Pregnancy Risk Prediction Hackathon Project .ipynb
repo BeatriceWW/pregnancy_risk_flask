{
 "cells": [
  {
   "cell_type": "markdown",
   "id": "3abf45cd",
   "metadata": {},
   "source": [
    "# Introduction "
   ]
  },
  {
   "cell_type": "markdown",
   "id": "cfdbd51b",
   "metadata": {},
   "source": [
    "* In developing nations like Nigeria, high-risk pregnancies pose a significant challenge, especially for women from lower and middle-income backgrounds. These pregnancies, which can threaten the well-being of both mother and unborn child, often require specialized medical care. Some pregnancies develop complications as they progress, while others involve elevated risk factors from the outset.\n",
    "\n",
    "* Although early and regular prenatal care can substantially improve outcomes, women in rural areas often lack access to proper healthcare and may have limited awareness about potential pregnancy complications. Moreover, the fear of being subjected to unnecessary and expensive medical tests by doctors exacerbates these problems, leading many women to avoid seeking crucial care.\n",
    "\n",
    "**Objective**\n",
    "* The project aims to develop a machine learning classification model and a web application to predict the risk level of pregnancy complications in patients. The model will classify patients into low, medium, or high-risk categories based on various factors that impact their health during pregnancy. \n",
    "\n",
    "* This will be accomplished by training and developing a machine learning model using a dataset of historical patient records with relevant features. \n",
    "\n",
    "* By utilizing this predictive model, patients can be informed about their pregnancy risk level, empowering those with medium or high-risk pregnancies to proactively seek appropriate interventions and medical care. \n",
    "\n",
    "**Dataset Overview** \n",
    "\n",
    "* **Patient ID** \n",
    "* **Name** \n",
    "* **Age**: Age in years when a woman is pregnant\n",
    "* **Body Temperature**: Measure of heat in the body\n",
    "* **HeartRate**: A normal resting heart rate in beats per minute.\n",
    "* **Systolic Blood Pressure**: Upper value of Blood Pressure in mmHg, a significant attribute during pregnancy.\n",
    "* **Diastolic Blood Pressure**: Lower value of Blood Pressure in mmHg, another significant attribute during pregnancy.\n",
    "* **BMI(kg/m 2)**: General indicator to categorize a person's weight status and potential health risks \n",
    "* **Blood Glucose( HbA1c)**: Glycated hemoglobin which shows average blood sugar levels\n",
    "* **Blood Glucose(Fasting hour-mg/dl)**: Measures blood sugar levels after an 8-hour fast\n",
    "* **Outcome**: Predicted risk intensity Level during pregnancy \n",
    "\n",
    "Monitoring the indicators above helps healthcare providers ensure the health of both mother and baby throughout pregnancy, allowing for timely interventions if needed.\n",
    "\n",
    "Dataset: Open-source data obtained from Kaggle, https://www.kaggle.com/datasets/mmhossain/pregnancy-risk-factor-data"
   ]
  },
  {
   "cell_type": "markdown",
   "id": "357c9c20",
   "metadata": {},
   "source": [
    "# 1. Import Necessary Libraries "
   ]
  },
  {
   "cell_type": "code",
   "execution_count": 1,
   "id": "319f2b3f",
   "metadata": {},
   "outputs": [],
   "source": [
    "import pandas as pd\n",
    "import numpy as np \n",
    "import seaborn as sns \n",
    "import matplotlib.pyplot as plt  \n",
    "%matplotlib inline\n",
    "import pickle\n",
    "\n",
    "# For data preprocessing\n",
    "from sklearn.preprocessing import LabelEncoder\n",
    "from sklearn.preprocessing import StandardScaler\n",
    "\n",
    "# Split train and test data \n",
    "from sklearn.model_selection import train_test_split \n",
    "\n",
    "# Model \n",
    "from sklearn.linear_model import LogisticRegression \n",
    "from sklearn.tree import DecisionTreeClassifier \n",
    "from sklearn.ensemble import RandomForestClassifier \n",
    "from sklearn.ensemble import AdaBoostClassifier\n",
    "from sklearn.svm import SVC\n",
    "\n",
    "# Metrics \n",
    "from sklearn.metrics import accuracy_score\n",
    "\n",
    "import warnings\n",
    "warnings.filterwarnings(\"ignore\")"
   ]
  },
  {
   "cell_type": "markdown",
   "id": "7d294e96",
   "metadata": {},
   "source": [
    "\n",
    "# 2. Load the Dataset"
   ]
  },
  {
   "cell_type": "code",
   "execution_count": 2,
   "id": "21180b7a",
   "metadata": {},
   "outputs": [],
   "source": [
    "df = pd.read_csv(\"pregnancy_risk_prediction.csv\", encoding='latin1')"
   ]
  },
  {
   "cell_type": "markdown",
   "id": "039c79c9",
   "metadata": {},
   "source": [
    "# 3. Basic Data Exploration"
   ]
  },
  {
   "cell_type": "code",
   "execution_count": 3,
   "id": "a870dea0",
   "metadata": {},
   "outputs": [
    {
     "data": {
      "text/html": [
       "<div>\n",
       "<style scoped>\n",
       "    .dataframe tbody tr th:only-of-type {\n",
       "        vertical-align: middle;\n",
       "    }\n",
       "\n",
       "    .dataframe tbody tr th {\n",
       "        vertical-align: top;\n",
       "    }\n",
       "\n",
       "    .dataframe thead th {\n",
       "        text-align: right;\n",
       "    }\n",
       "</style>\n",
       "<table border=\"1\" class=\"dataframe\">\n",
       "  <thead>\n",
       "    <tr style=\"text-align: right;\">\n",
       "      <th></th>\n",
       "      <th>Patient ID</th>\n",
       "      <th>Name</th>\n",
       "      <th>Age</th>\n",
       "      <th>Body Temperature(F)</th>\n",
       "      <th>Heart rate(bpm)</th>\n",
       "      <th>Systolic Blood Pressure(mm Hg)</th>\n",
       "      <th>Diastolic Blood Pressure(mm Hg)</th>\n",
       "      <th>BMI(kg/m 2)</th>\n",
       "      <th>Blood Glucose(HbA1c)</th>\n",
       "      <th>Blood Glucose(Fasting hour-mg/dl)</th>\n",
       "      <th>Outcome</th>\n",
       "    </tr>\n",
       "  </thead>\n",
       "  <tbody>\n",
       "    <tr>\n",
       "      <th>0</th>\n",
       "      <td>1994601</td>\n",
       "      <td>Moulya</td>\n",
       "      <td>20</td>\n",
       "      <td>97.5</td>\n",
       "      <td>91</td>\n",
       "      <td>161</td>\n",
       "      <td>100</td>\n",
       "      <td>24.9</td>\n",
       "      <td>41</td>\n",
       "      <td>5.8</td>\n",
       "      <td>high risk</td>\n",
       "    </tr>\n",
       "    <tr>\n",
       "      <th>1</th>\n",
       "      <td>2001562</td>\n",
       "      <td>Soni</td>\n",
       "      <td>45</td>\n",
       "      <td>97.7</td>\n",
       "      <td>99</td>\n",
       "      <td>99</td>\n",
       "      <td>94</td>\n",
       "      <td>22.1</td>\n",
       "      <td>36</td>\n",
       "      <td>5.7</td>\n",
       "      <td>high risk</td>\n",
       "    </tr>\n",
       "    <tr>\n",
       "      <th>2</th>\n",
       "      <td>2002530</td>\n",
       "      <td>Baishali</td>\n",
       "      <td>29</td>\n",
       "      <td>98.6</td>\n",
       "      <td>84</td>\n",
       "      <td>129</td>\n",
       "      <td>87</td>\n",
       "      <td>19.0</td>\n",
       "      <td>42</td>\n",
       "      <td>6.4</td>\n",
       "      <td>mid risk</td>\n",
       "    </tr>\n",
       "    <tr>\n",
       "      <th>3</th>\n",
       "      <td>2002114</td>\n",
       "      <td>Abhilasha</td>\n",
       "      <td>26</td>\n",
       "      <td>99.5</td>\n",
       "      <td>135</td>\n",
       "      <td>161</td>\n",
       "      <td>101</td>\n",
       "      <td>23.7</td>\n",
       "      <td>46</td>\n",
       "      <td>4.5</td>\n",
       "      <td>high risk</td>\n",
       "    </tr>\n",
       "    <tr>\n",
       "      <th>4</th>\n",
       "      <td>2002058</td>\n",
       "      <td>Aanaya</td>\n",
       "      <td>38</td>\n",
       "      <td>102.5</td>\n",
       "      <td>51</td>\n",
       "      <td>106</td>\n",
       "      <td>91</td>\n",
       "      <td>18.8</td>\n",
       "      <td>38</td>\n",
       "      <td>4.3</td>\n",
       "      <td>high risk</td>\n",
       "    </tr>\n",
       "  </tbody>\n",
       "</table>\n",
       "</div>"
      ],
      "text/plain": [
       "   Patient ID       Name  Age  Body Temperature(F)   Heart rate(bpm)  \\\n",
       "0     1994601     Moulya   20                  97.5               91   \n",
       "1     2001562       Soni   45                  97.7               99   \n",
       "2     2002530   Baishali   29                  98.6               84   \n",
       "3     2002114  Abhilasha   26                  99.5              135   \n",
       "4     2002058     Aanaya   38                 102.5               51   \n",
       "\n",
       "   Systolic Blood Pressure(mm Hg)  Diastolic Blood Pressure(mm Hg)  \\\n",
       "0                             161                              100   \n",
       "1                              99                               94   \n",
       "2                             129                               87   \n",
       "3                             161                              101   \n",
       "4                             106                               91   \n",
       "\n",
       "   BMI(kg/m 2)  Blood Glucose(HbA1c)  Blood Glucose(Fasting hour-mg/dl)  \\\n",
       "0         24.9                    41                                5.8   \n",
       "1         22.1                    36                                5.7   \n",
       "2         19.0                    42                                6.4   \n",
       "3         23.7                    46                                4.5   \n",
       "4         18.8                    38                                4.3   \n",
       "\n",
       "     Outcome  \n",
       "0  high risk  \n",
       "1  high risk  \n",
       "2   mid risk  \n",
       "3  high risk  \n",
       "4  high risk  "
      ]
     },
     "execution_count": 3,
     "metadata": {},
     "output_type": "execute_result"
    }
   ],
   "source": [
    "# Check the first 5 dataset observations \n",
    "df.head()"
   ]
  },
  {
   "cell_type": "code",
   "execution_count": 4,
   "id": "b59f0105",
   "metadata": {},
   "outputs": [
    {
     "data": {
      "text/html": [
       "<div>\n",
       "<style scoped>\n",
       "    .dataframe tbody tr th:only-of-type {\n",
       "        vertical-align: middle;\n",
       "    }\n",
       "\n",
       "    .dataframe tbody tr th {\n",
       "        vertical-align: top;\n",
       "    }\n",
       "\n",
       "    .dataframe thead th {\n",
       "        text-align: right;\n",
       "    }\n",
       "</style>\n",
       "<table border=\"1\" class=\"dataframe\">\n",
       "  <thead>\n",
       "    <tr style=\"text-align: right;\">\n",
       "      <th></th>\n",
       "      <th>Patient ID</th>\n",
       "      <th>Name</th>\n",
       "      <th>Age</th>\n",
       "      <th>Body Temperature(F)</th>\n",
       "      <th>Heart rate(bpm)</th>\n",
       "      <th>Systolic Blood Pressure(mm Hg)</th>\n",
       "      <th>Diastolic Blood Pressure(mm Hg)</th>\n",
       "      <th>BMI(kg/m 2)</th>\n",
       "      <th>Blood Glucose(HbA1c)</th>\n",
       "      <th>Blood Glucose(Fasting hour-mg/dl)</th>\n",
       "      <th>Outcome</th>\n",
       "    </tr>\n",
       "  </thead>\n",
       "  <tbody>\n",
       "    <tr>\n",
       "      <th>1102</th>\n",
       "      <td>2009733</td>\n",
       "      <td>Rachiyata</td>\n",
       "      <td>21</td>\n",
       "      <td>98.6</td>\n",
       "      <td>111</td>\n",
       "      <td>141</td>\n",
       "      <td>98</td>\n",
       "      <td>23.6</td>\n",
       "      <td>36</td>\n",
       "      <td>6.6</td>\n",
       "      <td>mid risk</td>\n",
       "    </tr>\n",
       "    <tr>\n",
       "      <th>4864</th>\n",
       "      <td>2011937</td>\n",
       "      <td>Udaya</td>\n",
       "      <td>28</td>\n",
       "      <td>95.9</td>\n",
       "      <td>69</td>\n",
       "      <td>149</td>\n",
       "      <td>89</td>\n",
       "      <td>19.6</td>\n",
       "      <td>40</td>\n",
       "      <td>4.6</td>\n",
       "      <td>mid risk</td>\n",
       "    </tr>\n",
       "    <tr>\n",
       "      <th>5174</th>\n",
       "      <td>2011913</td>\n",
       "      <td>Marushika</td>\n",
       "      <td>27</td>\n",
       "      <td>98.6</td>\n",
       "      <td>82</td>\n",
       "      <td>124</td>\n",
       "      <td>86</td>\n",
       "      <td>19.4</td>\n",
       "      <td>41</td>\n",
       "      <td>5.0</td>\n",
       "      <td>low risk</td>\n",
       "    </tr>\n",
       "    <tr>\n",
       "      <th>2171</th>\n",
       "      <td>2010191</td>\n",
       "      <td>Tanusha</td>\n",
       "      <td>23</td>\n",
       "      <td>98.6</td>\n",
       "      <td>60</td>\n",
       "      <td>126</td>\n",
       "      <td>87</td>\n",
       "      <td>25.2</td>\n",
       "      <td>33</td>\n",
       "      <td>5.7</td>\n",
       "      <td>high risk</td>\n",
       "    </tr>\n",
       "    <tr>\n",
       "      <th>3266</th>\n",
       "      <td>2002271</td>\n",
       "      <td>Ipsita</td>\n",
       "      <td>25</td>\n",
       "      <td>98.6</td>\n",
       "      <td>70</td>\n",
       "      <td>121</td>\n",
       "      <td>80</td>\n",
       "      <td>18.8</td>\n",
       "      <td>37</td>\n",
       "      <td>5.8</td>\n",
       "      <td>low risk</td>\n",
       "    </tr>\n",
       "    <tr>\n",
       "      <th>5850</th>\n",
       "      <td>2011125</td>\n",
       "      <td>Sanjoli</td>\n",
       "      <td>26</td>\n",
       "      <td>98.6</td>\n",
       "      <td>75</td>\n",
       "      <td>134</td>\n",
       "      <td>88</td>\n",
       "      <td>22.7</td>\n",
       "      <td>34</td>\n",
       "      <td>4.6</td>\n",
       "      <td>low risk</td>\n",
       "    </tr>\n",
       "  </tbody>\n",
       "</table>\n",
       "</div>"
      ],
      "text/plain": [
       "      Patient ID       Name  Age  Body Temperature(F)   Heart rate(bpm)  \\\n",
       "1102     2009733  Rachiyata   21                  98.6              111   \n",
       "4864     2011937      Udaya   28                  95.9               69   \n",
       "5174     2011913  Marushika   27                  98.6               82   \n",
       "2171     2010191    Tanusha   23                  98.6               60   \n",
       "3266     2002271     Ipsita   25                  98.6               70   \n",
       "5850     2011125    Sanjoli   26                  98.6               75   \n",
       "\n",
       "      Systolic Blood Pressure(mm Hg)  Diastolic Blood Pressure(mm Hg)  \\\n",
       "1102                             141                               98   \n",
       "4864                             149                               89   \n",
       "5174                             124                               86   \n",
       "2171                             126                               87   \n",
       "3266                             121                               80   \n",
       "5850                             134                               88   \n",
       "\n",
       "      BMI(kg/m 2)  Blood Glucose(HbA1c)  Blood Glucose(Fasting hour-mg/dl)  \\\n",
       "1102         23.6                    36                                6.6   \n",
       "4864         19.6                    40                                4.6   \n",
       "5174         19.4                    41                                5.0   \n",
       "2171         25.2                    33                                5.7   \n",
       "3266         18.8                    37                                5.8   \n",
       "5850         22.7                    34                                4.6   \n",
       "\n",
       "        Outcome  \n",
       "1102   mid risk  \n",
       "4864   mid risk  \n",
       "5174   low risk  \n",
       "2171  high risk  \n",
       "3266   low risk  \n",
       "5850   low risk  "
      ]
     },
     "execution_count": 4,
     "metadata": {},
     "output_type": "execute_result"
    }
   ],
   "source": [
    "# Check any 6 random observations\n",
    "df.sample(6)"
   ]
  },
  {
   "cell_type": "code",
   "execution_count": 5,
   "id": "7099367d",
   "metadata": {},
   "outputs": [
    {
     "data": {
      "text/plain": [
       "(6103, 11)"
      ]
     },
     "execution_count": 5,
     "metadata": {},
     "output_type": "execute_result"
    }
   ],
   "source": [
    "# Check the no of rows and columns \n",
    "df.shape"
   ]
  },
  {
   "cell_type": "markdown",
   "id": "16752db1",
   "metadata": {},
   "source": [
    "* The dataset has **6013** observations/features and **11** columns.\n",
    "* **Note** The target variable is 'Outcome' column\n",
    "* We don't need the patient ID and Name columns because they have no contribution/impact to our model prediction. \n",
    "* So, we will remove them from the dataset under data preprocessing step. "
   ]
  },
  {
   "cell_type": "code",
   "execution_count": 6,
   "id": "eff67e7d",
   "metadata": {},
   "outputs": [
    {
     "name": "stdout",
     "output_type": "stream",
     "text": [
      "<class 'pandas.core.frame.DataFrame'>\n",
      "RangeIndex: 6103 entries, 0 to 6102\n",
      "Data columns (total 11 columns):\n",
      " #   Column                             Non-Null Count  Dtype  \n",
      "---  ------                             --------------  -----  \n",
      " 0   Patient ID                         6103 non-null   int64  \n",
      " 1   Name                               6103 non-null   object \n",
      " 2   Age                                6103 non-null   int64  \n",
      " 3   Body Temperature(F)                6103 non-null   float64\n",
      " 4   Heart rate(bpm)                    6103 non-null   int64  \n",
      " 5   Systolic Blood Pressure(mm Hg)     6103 non-null   int64  \n",
      " 6   Diastolic Blood Pressure(mm Hg)    6103 non-null   int64  \n",
      " 7   BMI(kg/m 2)                        6103 non-null   float64\n",
      " 8   Blood Glucose(HbA1c)               6103 non-null   int64  \n",
      " 9   Blood Glucose(Fasting hour-mg/dl)  6103 non-null   float64\n",
      " 10  Outcome                            6103 non-null   object \n",
      "dtypes: float64(3), int64(6), object(2)\n",
      "memory usage: 524.6+ KB\n"
     ]
    }
   ],
   "source": [
    "# Check dataset info and datatypes \n",
    "df.info()"
   ]
  },
  {
   "cell_type": "code",
   "execution_count": 7,
   "id": "a78eb2b2",
   "metadata": {},
   "outputs": [
    {
     "data": {
      "text/plain": [
       "Patient ID                           0\n",
       "Name                                 0\n",
       "Age                                  0\n",
       "Body Temperature(F)                  0\n",
       "Heart rate(bpm)                      0\n",
       "Systolic Blood Pressure(mm Hg)       0\n",
       "Diastolic Blood Pressure(mm Hg)      0\n",
       "BMI(kg/m 2)                          0\n",
       "Blood Glucose(HbA1c)                 0\n",
       "Blood Glucose(Fasting hour-mg/dl)    0\n",
       "Outcome                              0\n",
       "dtype: int64"
      ]
     },
     "execution_count": 7,
     "metadata": {},
     "output_type": "execute_result"
    }
   ],
   "source": [
    "# Check missing values \n",
    "df.isnull().sum()"
   ]
  },
  {
   "cell_type": "markdown",
   "id": "ed029e4f",
   "metadata": {},
   "source": [
    "* As seen above, the dataset has no **missing values** "
   ]
  },
  {
   "cell_type": "code",
   "execution_count": 8,
   "id": "dce7a9bd",
   "metadata": {},
   "outputs": [
    {
     "data": {
      "text/plain": [
       "0"
      ]
     },
     "execution_count": 8,
     "metadata": {},
     "output_type": "execute_result"
    }
   ],
   "source": [
    "#check duplicates\n",
    "df.duplicated().sum()"
   ]
  },
  {
   "cell_type": "markdown",
   "id": "10eea6ec",
   "metadata": {},
   "source": [
    "* After checking duplicates, we can see that the dataset has **no** duplicated record."
   ]
  },
  {
   "cell_type": "code",
   "execution_count": 9,
   "id": "7fed28a3",
   "metadata": {
    "scrolled": true
   },
   "outputs": [
    {
     "data": {
      "text/html": [
       "<div>\n",
       "<style scoped>\n",
       "    .dataframe tbody tr th:only-of-type {\n",
       "        vertical-align: middle;\n",
       "    }\n",
       "\n",
       "    .dataframe tbody tr th {\n",
       "        vertical-align: top;\n",
       "    }\n",
       "\n",
       "    .dataframe thead th {\n",
       "        text-align: right;\n",
       "    }\n",
       "</style>\n",
       "<table border=\"1\" class=\"dataframe\">\n",
       "  <thead>\n",
       "    <tr style=\"text-align: right;\">\n",
       "      <th></th>\n",
       "      <th>Patient ID</th>\n",
       "      <th>Age</th>\n",
       "      <th>Body Temperature(F)</th>\n",
       "      <th>Heart rate(bpm)</th>\n",
       "      <th>Systolic Blood Pressure(mm Hg)</th>\n",
       "      <th>Diastolic Blood Pressure(mm Hg)</th>\n",
       "      <th>BMI(kg/m 2)</th>\n",
       "      <th>Blood Glucose(HbA1c)</th>\n",
       "      <th>Blood Glucose(Fasting hour-mg/dl)</th>\n",
       "    </tr>\n",
       "  </thead>\n",
       "  <tbody>\n",
       "    <tr>\n",
       "      <th>count</th>\n",
       "      <td>6.103000e+03</td>\n",
       "      <td>6103.000000</td>\n",
       "      <td>6103.000000</td>\n",
       "      <td>6103.000000</td>\n",
       "      <td>6103.000000</td>\n",
       "      <td>6103.000000</td>\n",
       "      <td>6103.000000</td>\n",
       "      <td>6103.000000</td>\n",
       "      <td>6103.000000</td>\n",
       "    </tr>\n",
       "    <tr>\n",
       "      <th>mean</th>\n",
       "      <td>2.003343e+06</td>\n",
       "      <td>26.425037</td>\n",
       "      <td>98.665574</td>\n",
       "      <td>86.100770</td>\n",
       "      <td>129.218253</td>\n",
       "      <td>87.257578</td>\n",
       "      <td>21.435581</td>\n",
       "      <td>37.904473</td>\n",
       "      <td>5.504752</td>\n",
       "    </tr>\n",
       "    <tr>\n",
       "      <th>std</th>\n",
       "      <td>6.604395e+03</td>\n",
       "      <td>6.390205</td>\n",
       "      <td>1.590983</td>\n",
       "      <td>22.627587</td>\n",
       "      <td>17.234217</td>\n",
       "      <td>7.793099</td>\n",
       "      <td>2.157060</td>\n",
       "      <td>4.400272</td>\n",
       "      <td>0.905327</td>\n",
       "    </tr>\n",
       "    <tr>\n",
       "      <th>min</th>\n",
       "      <td>1.993365e+06</td>\n",
       "      <td>15.000000</td>\n",
       "      <td>39.600000</td>\n",
       "      <td>45.000000</td>\n",
       "      <td>90.000000</td>\n",
       "      <td>9.000000</td>\n",
       "      <td>14.900000</td>\n",
       "      <td>30.000000</td>\n",
       "      <td>3.500000</td>\n",
       "    </tr>\n",
       "    <tr>\n",
       "      <th>25%</th>\n",
       "      <td>1.994890e+06</td>\n",
       "      <td>22.000000</td>\n",
       "      <td>98.600000</td>\n",
       "      <td>72.000000</td>\n",
       "      <td>120.000000</td>\n",
       "      <td>82.000000</td>\n",
       "      <td>19.600000</td>\n",
       "      <td>34.000000</td>\n",
       "      <td>4.800000</td>\n",
       "    </tr>\n",
       "    <tr>\n",
       "      <th>50%</th>\n",
       "      <td>2.003000e+06</td>\n",
       "      <td>25.000000</td>\n",
       "      <td>98.600000</td>\n",
       "      <td>80.000000</td>\n",
       "      <td>128.000000</td>\n",
       "      <td>87.000000</td>\n",
       "      <td>21.300000</td>\n",
       "      <td>38.000000</td>\n",
       "      <td>5.700000</td>\n",
       "    </tr>\n",
       "    <tr>\n",
       "      <th>75%</th>\n",
       "      <td>2.010128e+06</td>\n",
       "      <td>30.000000</td>\n",
       "      <td>98.800000</td>\n",
       "      <td>91.000000</td>\n",
       "      <td>141.000000</td>\n",
       "      <td>92.000000</td>\n",
       "      <td>23.100000</td>\n",
       "      <td>41.000000</td>\n",
       "      <td>6.000000</td>\n",
       "    </tr>\n",
       "    <tr>\n",
       "      <th>max</th>\n",
       "      <td>2.013179e+06</td>\n",
       "      <td>250.000000</td>\n",
       "      <td>104.000000</td>\n",
       "      <td>150.000000</td>\n",
       "      <td>169.000000</td>\n",
       "      <td>142.000000</td>\n",
       "      <td>27.900000</td>\n",
       "      <td>50.000000</td>\n",
       "      <td>8.900000</td>\n",
       "    </tr>\n",
       "  </tbody>\n",
       "</table>\n",
       "</div>"
      ],
      "text/plain": [
       "         Patient ID          Age  Body Temperature(F)   Heart rate(bpm)  \\\n",
       "count  6.103000e+03  6103.000000           6103.000000      6103.000000   \n",
       "mean   2.003343e+06    26.425037             98.665574        86.100770   \n",
       "std    6.604395e+03     6.390205              1.590983        22.627587   \n",
       "min    1.993365e+06    15.000000             39.600000        45.000000   \n",
       "25%    1.994890e+06    22.000000             98.600000        72.000000   \n",
       "50%    2.003000e+06    25.000000             98.600000        80.000000   \n",
       "75%    2.010128e+06    30.000000             98.800000        91.000000   \n",
       "max    2.013179e+06   250.000000            104.000000       150.000000   \n",
       "\n",
       "       Systolic Blood Pressure(mm Hg)  Diastolic Blood Pressure(mm Hg)  \\\n",
       "count                     6103.000000                      6103.000000   \n",
       "mean                       129.218253                        87.257578   \n",
       "std                         17.234217                         7.793099   \n",
       "min                         90.000000                         9.000000   \n",
       "25%                        120.000000                        82.000000   \n",
       "50%                        128.000000                        87.000000   \n",
       "75%                        141.000000                        92.000000   \n",
       "max                        169.000000                       142.000000   \n",
       "\n",
       "       BMI(kg/m 2)  Blood Glucose(HbA1c)  Blood Glucose(Fasting hour-mg/dl)  \n",
       "count  6103.000000           6103.000000                        6103.000000  \n",
       "mean     21.435581             37.904473                           5.504752  \n",
       "std       2.157060              4.400272                           0.905327  \n",
       "min      14.900000             30.000000                           3.500000  \n",
       "25%      19.600000             34.000000                           4.800000  \n",
       "50%      21.300000             38.000000                           5.700000  \n",
       "75%      23.100000             41.000000                           6.000000  \n",
       "max      27.900000             50.000000                           8.900000  "
      ]
     },
     "execution_count": 9,
     "metadata": {},
     "output_type": "execute_result"
    }
   ],
   "source": [
    "# Summary statistics of the data \n",
    "df.describe()"
   ]
  },
  {
   "cell_type": "markdown",
   "id": "2aba53d3",
   "metadata": {},
   "source": [
    "* The average age of the reported pregnant patient in the dataset is about **26 years**\n",
    "* The youngest reported patient in the dataset is **15 years**\n",
    "* The average blood sugar level(HbA1c) in the dataset is **37mm0l/L**\n",
    "* The lowest reported heart rate in the dataset is **45 beats/min**\n",
    "* The average systolic blood pressure in the dataset is about **129mmHg**\n",
    "* The average diastolic blood pressure in the dataset is about **87mmHg**"
   ]
  },
  {
   "cell_type": "markdown",
   "id": "a93e7e48",
   "metadata": {},
   "source": [
    "# 4. Data Preprocessing "
   ]
  },
  {
   "cell_type": "code",
   "execution_count": 10,
   "id": "f3fa5cdd",
   "metadata": {},
   "outputs": [],
   "source": [
    "# drop irrelevant columns \n",
    "df.drop(columns = ['Patient ID', 'Name'], inplace = True)"
   ]
  },
  {
   "cell_type": "markdown",
   "id": "386b09ef",
   "metadata": {},
   "source": [
    "* We dropped **patient ID** and **Name** columns since as stated above, they don't have any impact in helping us predict the model outcome. "
   ]
  },
  {
   "cell_type": "markdown",
   "id": "4915081b",
   "metadata": {},
   "source": [
    "* In the code below, we rename the dataset features to reduce the likelihood of errors when referencing columns in our analysis and model building"
   ]
  },
  {
   "cell_type": "code",
   "execution_count": 11,
   "id": "389b9dc6",
   "metadata": {},
   "outputs": [],
   "source": [
    "df.rename(columns={'Body Temperature(F) ':'Body Temperature', \n",
    "                   'Heart rate(bpm)': 'Heart Rate', \n",
    "                   'Systolic Blood Pressure(mm Hg)':'Systolic Blood Pressure', \n",
    "                   'Diastolic Blood Pressure(mm Hg)':'Diastolic Blood Pressure',\n",
    "                   'BMI(kg/m 2)':'BMI',\n",
    "                   'Blood Glucose(HbA1c)':'Blood Glucose HbA1c',\n",
    "                   'Blood Glucose(Fasting hour-mg/dl)':'Blood Glucose Fasting'\n",
    "                \n",
    "                  }, inplace=True)"
   ]
  },
  {
   "cell_type": "markdown",
   "id": "9c9421b2",
   "metadata": {},
   "source": [
    "### Encoding"
   ]
  },
  {
   "cell_type": "code",
   "execution_count": 12,
   "id": "0ea7f244",
   "metadata": {},
   "outputs": [
    {
     "data": {
      "text/plain": [
       "array([0, 0, 2, ..., 0, 0, 1])"
      ]
     },
     "execution_count": 12,
     "metadata": {},
     "output_type": "execute_result"
    }
   ],
   "source": [
    "# Encode the target column from categorical to numerical \n",
    "encoder = LabelEncoder()\n",
    "\n",
    "encoded_target = encoder.fit_transform(df['Outcome'])\n",
    "encoded_target"
   ]
  },
  {
   "cell_type": "code",
   "execution_count": 13,
   "id": "78ef436b",
   "metadata": {},
   "outputs": [],
   "source": [
    "df['Outcome'] = encoded_target"
   ]
  },
  {
   "cell_type": "code",
   "execution_count": 14,
   "id": "250f1ed4",
   "metadata": {},
   "outputs": [
    {
     "data": {
      "text/html": [
       "<div>\n",
       "<style scoped>\n",
       "    .dataframe tbody tr th:only-of-type {\n",
       "        vertical-align: middle;\n",
       "    }\n",
       "\n",
       "    .dataframe tbody tr th {\n",
       "        vertical-align: top;\n",
       "    }\n",
       "\n",
       "    .dataframe thead th {\n",
       "        text-align: right;\n",
       "    }\n",
       "</style>\n",
       "<table border=\"1\" class=\"dataframe\">\n",
       "  <thead>\n",
       "    <tr style=\"text-align: right;\">\n",
       "      <th></th>\n",
       "      <th>Age</th>\n",
       "      <th>Body Temperature</th>\n",
       "      <th>Heart Rate</th>\n",
       "      <th>Systolic Blood Pressure</th>\n",
       "      <th>Diastolic Blood Pressure</th>\n",
       "      <th>BMI</th>\n",
       "      <th>Blood Glucose HbA1c</th>\n",
       "      <th>Blood Glucose Fasting</th>\n",
       "      <th>Outcome</th>\n",
       "    </tr>\n",
       "  </thead>\n",
       "  <tbody>\n",
       "    <tr>\n",
       "      <th>5994</th>\n",
       "      <td>22</td>\n",
       "      <td>98.8</td>\n",
       "      <td>91</td>\n",
       "      <td>167</td>\n",
       "      <td>104</td>\n",
       "      <td>24.9</td>\n",
       "      <td>34</td>\n",
       "      <td>5.7</td>\n",
       "      <td>0</td>\n",
       "    </tr>\n",
       "    <tr>\n",
       "      <th>4371</th>\n",
       "      <td>24</td>\n",
       "      <td>98.6</td>\n",
       "      <td>83</td>\n",
       "      <td>130</td>\n",
       "      <td>81</td>\n",
       "      <td>21.8</td>\n",
       "      <td>33</td>\n",
       "      <td>4.4</td>\n",
       "      <td>1</td>\n",
       "    </tr>\n",
       "    <tr>\n",
       "      <th>4022</th>\n",
       "      <td>28</td>\n",
       "      <td>101.3</td>\n",
       "      <td>64</td>\n",
       "      <td>161</td>\n",
       "      <td>101</td>\n",
       "      <td>24.9</td>\n",
       "      <td>47</td>\n",
       "      <td>3.9</td>\n",
       "      <td>0</td>\n",
       "    </tr>\n",
       "  </tbody>\n",
       "</table>\n",
       "</div>"
      ],
      "text/plain": [
       "      Age  Body Temperature  Heart Rate  Systolic Blood Pressure  \\\n",
       "5994   22              98.8          91                      167   \n",
       "4371   24              98.6          83                      130   \n",
       "4022   28             101.3          64                      161   \n",
       "\n",
       "      Diastolic Blood Pressure   BMI  Blood Glucose HbA1c  \\\n",
       "5994                       104  24.9                   34   \n",
       "4371                        81  21.8                   33   \n",
       "4022                       101  24.9                   47   \n",
       "\n",
       "      Blood Glucose Fasting  Outcome  \n",
       "5994                    5.7        0  \n",
       "4371                    4.4        1  \n",
       "4022                    3.9        0  "
      ]
     },
     "execution_count": 14,
     "metadata": {},
     "output_type": "execute_result"
    }
   ],
   "source": [
    "df.sample(3)"
   ]
  },
  {
   "cell_type": "code",
   "execution_count": 74,
   "id": "701c9d65",
   "metadata": {},
   "outputs": [
    {
     "data": {
      "text/plain": [
       "{'high risk': 0, 'low risk': 1, 'mid risk': 2}"
      ]
     },
     "execution_count": 74,
     "metadata": {},
     "output_type": "execute_result"
    }
   ],
   "source": [
    "# Retrieve the encoding class mapping\n",
    "class_mapping = dict(zip(encoder.classes_, encoder.transform(encoder.classes_)))\n",
    "class_mapping"
   ]
  },
  {
   "cell_type": "markdown",
   "id": "b39ebef3",
   "metadata": {},
   "source": [
    "# 5. Data Visualization "
   ]
  },
  {
   "cell_type": "markdown",
   "id": "23b8389f",
   "metadata": {},
   "source": [
    "* To help understand dataset distributions"
   ]
  },
  {
   "cell_type": "code",
   "execution_count": 17,
   "id": "769b5e27",
   "metadata": {},
   "outputs": [
    {
     "data": {
      "image/png": "[encoded data removed]",
      "text/plain": [
       "<Figure size 1500x1000 with 9 Axes>"
      ]
     },
     "metadata": {},
     "output_type": "display_data"
    }
   ],
   "source": [
    "# Plot histograms\n",
    "df.hist(bins=20, figsize=(15, 10))\n",
    "plt.show()"
   ]
  },
  {
   "cell_type": "code",
   "execution_count": 18,
   "id": "e48c5f56",
   "metadata": {},
   "outputs": [
    {
     "data": {
      "image/png": "[encoded data removed]",
      "text/plain": [
       "<Figure size 1500x1000 with 1 Axes>"
      ]
     },
     "metadata": {},
     "output_type": "display_data"
    }
   ],
   "source": [
    "# Box plots ~ Create a figure with multiple box plots\n",
    "plt.figure(figsize=(15, 10))\n",
    "sns.boxplot(data=df, orient=\"h\")\n",
    "plt.show()"
   ]
  },
  {
   "cell_type": "markdown",
   "id": "f38be363",
   "metadata": {},
   "source": [
    "# 6. Check Class Imbalance "
   ]
  },
  {
   "cell_type": "markdown",
   "id": "85e66f86",
   "metadata": {},
   "source": [
    "* Class imbalance refers to a situation where the number of instances in each class is not evenly distributed. By being aware of class imbalance and addressing it appropriately, we aim to build a robust model that performs well leading to reliable model performance results. \n",
    "\n",
    "**Class target mapping of pregnancy risk levels**\n",
    "* Low risk: 1\n",
    "* Medium risk: 2\n",
    "* High risk: 0"
   ]
  },
  {
   "cell_type": "code",
   "execution_count": 19,
   "id": "becf86f7",
   "metadata": {},
   "outputs": [
    {
     "data": {
      "text/plain": [
       "0    2059\n",
       "2    2043\n",
       "1    2001\n",
       "Name: Outcome, dtype: int64"
      ]
     },
     "execution_count": 19,
     "metadata": {},
     "output_type": "execute_result"
    }
   ],
   "source": [
    "df['Outcome'].value_counts()"
   ]
  },
  {
   "cell_type": "code",
   "execution_count": null,
   "id": "9b08906d",
   "metadata": {},
   "outputs": [],
   "source": [
    "imbalance_ratio = df['Outcome'].value_counts(normalize=True) * 100\n",
    "imbalance_ratio"
   ]
  },
  {
   "cell_type": "code",
   "execution_count": null,
   "id": "78b3b835",
   "metadata": {},
   "outputs": [],
   "source": [
    "# Plot class distribution pie chart\n",
    "plt.figure(figsize=(5,3))\n",
    "plt.pie(imbalance_ratio, labels=imbalance_ratio.index, autopct='%1.1f%%')\n",
    "plt.title('Target Class Distribution')\n",
    "plt.show()"
   ]
  },
  {
   "cell_type": "markdown",
   "id": "17b655f2",
   "metadata": {},
   "source": [
    "### Analysis of Class Imbalance\n",
    "\n",
    "* **High risk**: Approximately 33.7% of the observations are labeled as \"high risk\"\n",
    "* **Medium risk**: Approximately 32.8% of the observations are labeled as \"mid risk\"\n",
    "* **Low risk**: Approximately 33.5% of the observations are labeled as \"low risk\"\n",
    "\n",
    "From the percentages, the dataset is fairly balanced across the three target classes. So, there is no class imbalance in the dataset, which means that each class or category within our target variable (or outcome variable) is represented in roughly equal proportions"
   ]
  },
  {
   "cell_type": "markdown",
   "id": "5e9d608b",
   "metadata": {},
   "source": [
    "# 7. Feature Extraction "
   ]
  },
  {
   "cell_type": "code",
   "execution_count": 21,
   "id": "89a5f369",
   "metadata": {},
   "outputs": [],
   "source": [
    "# Extract train and test data \n",
    "target = 'Outcome'\n",
    "\n",
    "y = df['Outcome'] \n",
    "\n",
    "# features \n",
    "X = df.drop(columns= target)"
   ]
  },
  {
   "cell_type": "markdown",
   "id": "4f5af7bc",
   "metadata": {},
   "source": [
    " # 8. Train-Test Split "
   ]
  },
  {
   "cell_type": "markdown",
   "id": "e077b23d",
   "metadata": {},
   "source": [
    "It involves dividing the available dataset into two separate sets:\n",
    "\n",
    "* **Train set**: to train the model\n",
    "* **Test set**: to evaluate the model's performance.\n",
    "\n",
    "By training the model on one subset (the training set) and testing on another (the testing set), we can get a more accurate measure of the model performance."
   ]
  },
  {
   "cell_type": "code",
   "execution_count": 22,
   "id": "ef1264b9",
   "metadata": {},
   "outputs": [],
   "source": [
    "# Dividing data on 70/30 % proportion  \n",
    "X_train, X_test,  y_train, y_test = train_test_split(X, y, test_size=0.2, shuffle = True, random_state = 42 )"
   ]
  },
  {
   "cell_type": "code",
   "execution_count": 23,
   "id": "8823c8fd",
   "metadata": {},
   "outputs": [
    {
     "name": "stdout",
     "output_type": "stream",
     "text": [
      "(6103, 8) (4882, 8) (1221, 8)\n"
     ]
    }
   ],
   "source": [
    "# Dipslay train and test proportions\n",
    "print(X.shape, X_train.shape, X_test.shape)"
   ]
  },
  {
   "cell_type": "markdown",
   "id": "a29761e8",
   "metadata": {},
   "source": [
    "# 9. Model Training ¶"
   ]
  },
  {
   "cell_type": "markdown",
   "id": "c0fe8abc",
   "metadata": {},
   "source": [
    "### a) Logistic Regression "
   ]
  },
  {
   "cell_type": "markdown",
   "id": "44e92226",
   "metadata": {},
   "source": [
    "* Logistic regression is a popular machine learning algorithm used for binary classification. However, it can be extended to handle multi-class classification problems through techniques such as One-vs-Rest (OvR) and Softmax (Multinomial) regression."
   ]
  },
  {
   "cell_type": "code",
   "execution_count": 75,
   "id": "7295eb74",
   "metadata": {},
   "outputs": [
    {
     "data": {
      "text/html": [
       "<style>#sk-container-id-2 {color: black;background-color: white;}#sk-container-id-2 pre{padding: 0;}#sk-container-id-2 div.sk-toggleable {background-color: white;}#sk-container-id-2 label.sk-toggleable__label {cursor: pointer;display: block;width: 100%;margin-bottom: 0;padding: 0.3em;box-sizing: border-box;text-align: center;}#sk-container-id-2 label.sk-toggleable__label-arrow:before {content: \"▸\";float: left;margin-right: 0.25em;color: #696969;}#sk-container-id-2 label.sk-toggleable__label-arrow:hover:before {color: black;}#sk-container-id-2 div.sk-estimator:hover label.sk-toggleable__label-arrow:before {color: black;}#sk-container-id-2 div.sk-toggleable__content {max-height: 0;max-width: 0;overflow: hidden;text-align: left;background-color: #f0f8ff;}#sk-container-id-2 div.sk-toggleable__content pre {margin: 0.2em;color: black;border-radius: 0.25em;background-color: #f0f8ff;}#sk-container-id-2 input.sk-toggleable__control:checked~div.sk-toggleable__content {max-height: 200px;max-width: 100%;overflow: auto;}#sk-container-id-2 input.sk-toggleable__control:checked~label.sk-toggleable__label-arrow:before {content: \"▾\";}#sk-container-id-2 div.sk-estimator input.sk-toggleable__control:checked~label.sk-toggleable__label {background-color: #d4ebff;}#sk-container-id-2 div.sk-label input.sk-toggleable__control:checked~label.sk-toggleable__label {background-color: #d4ebff;}#sk-container-id-2 input.sk-hidden--visually {border: 0;clip: rect(1px 1px 1px 1px);clip: rect(1px, 1px, 1px, 1px);height: 1px;margin: -1px;overflow: hidden;padding: 0;position: absolute;width: 1px;}#sk-container-id-2 div.sk-estimator {font-family: monospace;background-color: #f0f8ff;border: 1px dotted black;border-radius: 0.25em;box-sizing: border-box;margin-bottom: 0.5em;}#sk-container-id-2 div.sk-estimator:hover {background-color: #d4ebff;}#sk-container-id-2 div.sk-parallel-item::after {content: \"\";width: 100%;border-bottom: 1px solid gray;flex-grow: 1;}#sk-container-id-2 div.sk-label:hover label.sk-toggleable__label {background-color: #d4ebff;}#sk-container-id-2 div.sk-serial::before {content: \"\";position: absolute;border-left: 1px solid gray;box-sizing: border-box;top: 0;bottom: 0;left: 50%;z-index: 0;}#sk-container-id-2 div.sk-serial {display: flex;flex-direction: column;align-items: center;background-color: white;padding-right: 0.2em;padding-left: 0.2em;position: relative;}#sk-container-id-2 div.sk-item {position: relative;z-index: 1;}#sk-container-id-2 div.sk-parallel {display: flex;align-items: stretch;justify-content: center;background-color: white;position: relative;}#sk-container-id-2 div.sk-item::before, #sk-container-id-2 div.sk-parallel-item::before {content: \"\";position: absolute;border-left: 1px solid gray;box-sizing: border-box;top: 0;bottom: 0;left: 50%;z-index: -1;}#sk-container-id-2 div.sk-parallel-item {display: flex;flex-direction: column;z-index: 1;position: relative;background-color: white;}#sk-container-id-2 div.sk-parallel-item:first-child::after {align-self: flex-end;width: 50%;}#sk-container-id-2 div.sk-parallel-item:last-child::after {align-self: flex-start;width: 50%;}#sk-container-id-2 div.sk-parallel-item:only-child::after {width: 0;}#sk-container-id-2 div.sk-dashed-wrapped {border: 1px dashed gray;margin: 0 0.4em 0.5em 0.4em;box-sizing: border-box;padding-bottom: 0.4em;background-color: white;}#sk-container-id-2 div.sk-label label {font-family: monospace;font-weight: bold;display: inline-block;line-height: 1.2em;}#sk-container-id-2 div.sk-label-container {text-align: center;}#sk-container-id-2 div.sk-container {/* jupyter's `normalize.less` sets `[hidden] { display: none; }` but bootstrap.min.css set `[hidden] { display: none !important; }` so we also need the `!important` here to be able to override the default hidden behavior on the sphinx rendered scikit-learn.org. See: https://github.com/scikit-learn/scikit-learn/issues/21755 */display: inline-block !important;position: relative;}#sk-container-id-2 div.sk-text-repr-fallback {display: none;}</style><div id=\"sk-container-id-2\" class=\"sk-top-container\"><div class=\"sk-text-repr-fallback\"><pre>LogisticRegression(max_iter=200, multi_class=&#x27;multinomial&#x27;)</pre><b>In a Jupyter environment, please rerun this cell to show the HTML representation or trust the notebook. <br />On GitHub, the HTML representation is unable to render, please try loading this page with nbviewer.org.</b></div><div class=\"sk-container\" hidden><div class=\"sk-item\"><div class=\"sk-estimator sk-toggleable\"><input class=\"sk-toggleable__control sk-hidden--visually\" id=\"sk-estimator-id-2\" type=\"checkbox\" checked><label for=\"sk-estimator-id-2\" class=\"sk-toggleable__label sk-toggleable__label-arrow\">LogisticRegression</label><div class=\"sk-toggleable__content\"><pre>LogisticRegression(max_iter=200, multi_class=&#x27;multinomial&#x27;)</pre></div></div></div></div></div>"
      ],
      "text/plain": [
       "LogisticRegression(max_iter=200, multi_class='multinomial')"
      ]
     },
     "execution_count": 75,
     "metadata": {},
     "output_type": "execute_result"
    }
   ],
   "source": [
    "# Create an instance of logistic model \n",
    "log_model = LogisticRegression(multi_class='multinomial', solver='lbfgs', max_iter=200)\n",
    "\n",
    "#Train model \n",
    "log_model.fit(X_train, y_train)"
   ]
  },
  {
   "cell_type": "code",
   "execution_count": 76,
   "id": "0779dd85",
   "metadata": {},
   "outputs": [
    {
     "data": {
      "text/plain": [
       "array([1, 1, 0, ..., 1, 0, 2])"
      ]
     },
     "execution_count": 76,
     "metadata": {},
     "output_type": "execute_result"
    }
   ],
   "source": [
    "log_model.predict(X_test)"
   ]
  },
  {
   "cell_type": "code",
   "execution_count": 77,
   "id": "9b3aae95",
   "metadata": {},
   "outputs": [
    {
     "name": "stdout",
     "output_type": "stream",
     "text": [
      "Train accuracy score: 0.55\n",
      "Test accuracy score: 0.54\n"
     ]
    }
   ],
   "source": [
    "# Model evaluation \n",
    "X_train_pred = log_model.predict(X_train)\n",
    "Train_acc = accuracy_score(X_train_pred, y_train).round(2)\n",
    "\n",
    "print('Train accuracy score:', Train_acc)\n",
    "\n",
    "#Test Data prediction\n",
    "X_test_pred = log_model.predict(X_test) \n",
    "Test_acc = accuracy_score(X_test_pred, y_test).round(2)\n",
    "\n",
    "print('Test accuracy score:', Test_acc)"
   ]
  },
  {
   "cell_type": "markdown",
   "id": "4ce0d6c3",
   "metadata": {},
   "source": [
    "### b) Decision Tree Model\n",
    "A decision tree is a supervised learning model used for both classification and regression tasks. It splits the data into subsets based on the value of input features, creating a tree-like model of decisions. The goal is to create a model that predicts the value of a target variable by learning simple decision rules inferred from the data features."
   ]
  },
  {
   "cell_type": "code",
   "execution_count": 78,
   "id": "a440bb6b",
   "metadata": {},
   "outputs": [
    {
     "data": {
      "text/html": [
       "<style>#sk-container-id-3 {color: black;background-color: white;}#sk-container-id-3 pre{padding: 0;}#sk-container-id-3 div.sk-toggleable {background-color: white;}#sk-container-id-3 label.sk-toggleable__label {cursor: pointer;display: block;width: 100%;margin-bottom: 0;padding: 0.3em;box-sizing: border-box;text-align: center;}#sk-container-id-3 label.sk-toggleable__label-arrow:before {content: \"▸\";float: left;margin-right: 0.25em;color: #696969;}#sk-container-id-3 label.sk-toggleable__label-arrow:hover:before {color: black;}#sk-container-id-3 div.sk-estimator:hover label.sk-toggleable__label-arrow:before {color: black;}#sk-container-id-3 div.sk-toggleable__content {max-height: 0;max-width: 0;overflow: hidden;text-align: left;background-color: #f0f8ff;}#sk-container-id-3 div.sk-toggleable__content pre {margin: 0.2em;color: black;border-radius: 0.25em;background-color: #f0f8ff;}#sk-container-id-3 input.sk-toggleable__control:checked~div.sk-toggleable__content {max-height: 200px;max-width: 100%;overflow: auto;}#sk-container-id-3 input.sk-toggleable__control:checked~label.sk-toggleable__label-arrow:before {content: \"▾\";}#sk-container-id-3 div.sk-estimator input.sk-toggleable__control:checked~label.sk-toggleable__label {background-color: #d4ebff;}#sk-container-id-3 div.sk-label input.sk-toggleable__control:checked~label.sk-toggleable__label {background-color: #d4ebff;}#sk-container-id-3 input.sk-hidden--visually {border: 0;clip: rect(1px 1px 1px 1px);clip: rect(1px, 1px, 1px, 1px);height: 1px;margin: -1px;overflow: hidden;padding: 0;position: absolute;width: 1px;}#sk-container-id-3 div.sk-estimator {font-family: monospace;background-color: #f0f8ff;border: 1px dotted black;border-radius: 0.25em;box-sizing: border-box;margin-bottom: 0.5em;}#sk-container-id-3 div.sk-estimator:hover {background-color: #d4ebff;}#sk-container-id-3 div.sk-parallel-item::after {content: \"\";width: 100%;border-bottom: 1px solid gray;flex-grow: 1;}#sk-container-id-3 div.sk-label:hover label.sk-toggleable__label {background-color: #d4ebff;}#sk-container-id-3 div.sk-serial::before {content: \"\";position: absolute;border-left: 1px solid gray;box-sizing: border-box;top: 0;bottom: 0;left: 50%;z-index: 0;}#sk-container-id-3 div.sk-serial {display: flex;flex-direction: column;align-items: center;background-color: white;padding-right: 0.2em;padding-left: 0.2em;position: relative;}#sk-container-id-3 div.sk-item {position: relative;z-index: 1;}#sk-container-id-3 div.sk-parallel {display: flex;align-items: stretch;justify-content: center;background-color: white;position: relative;}#sk-container-id-3 div.sk-item::before, #sk-container-id-3 div.sk-parallel-item::before {content: \"\";position: absolute;border-left: 1px solid gray;box-sizing: border-box;top: 0;bottom: 0;left: 50%;z-index: -1;}#sk-container-id-3 div.sk-parallel-item {display: flex;flex-direction: column;z-index: 1;position: relative;background-color: white;}#sk-container-id-3 div.sk-parallel-item:first-child::after {align-self: flex-end;width: 50%;}#sk-container-id-3 div.sk-parallel-item:last-child::after {align-self: flex-start;width: 50%;}#sk-container-id-3 div.sk-parallel-item:only-child::after {width: 0;}#sk-container-id-3 div.sk-dashed-wrapped {border: 1px dashed gray;margin: 0 0.4em 0.5em 0.4em;box-sizing: border-box;padding-bottom: 0.4em;background-color: white;}#sk-container-id-3 div.sk-label label {font-family: monospace;font-weight: bold;display: inline-block;line-height: 1.2em;}#sk-container-id-3 div.sk-label-container {text-align: center;}#sk-container-id-3 div.sk-container {/* jupyter's `normalize.less` sets `[hidden] { display: none; }` but bootstrap.min.css set `[hidden] { display: none !important; }` so we also need the `!important` here to be able to override the default hidden behavior on the sphinx rendered scikit-learn.org. See: https://github.com/scikit-learn/scikit-learn/issues/21755 */display: inline-block !important;position: relative;}#sk-container-id-3 div.sk-text-repr-fallback {display: none;}</style><div id=\"sk-container-id-3\" class=\"sk-top-container\"><div class=\"sk-text-repr-fallback\"><pre>DecisionTreeClassifier(random_state=32)</pre><b>In a Jupyter environment, please rerun this cell to show the HTML representation or trust the notebook. <br />On GitHub, the HTML representation is unable to render, please try loading this page with nbviewer.org.</b></div><div class=\"sk-container\" hidden><div class=\"sk-item\"><div class=\"sk-estimator sk-toggleable\"><input class=\"sk-toggleable__control sk-hidden--visually\" id=\"sk-estimator-id-3\" type=\"checkbox\" checked><label for=\"sk-estimator-id-3\" class=\"sk-toggleable__label sk-toggleable__label-arrow\">DecisionTreeClassifier</label><div class=\"sk-toggleable__content\"><pre>DecisionTreeClassifier(random_state=32)</pre></div></div></div></div></div>"
      ],
      "text/plain": [
       "DecisionTreeClassifier(random_state=32)"
      ]
     },
     "execution_count": 78,
     "metadata": {},
     "output_type": "execute_result"
    }
   ],
   "source": [
    "# Create an instance of logistic model \n",
    "dt_model = DecisionTreeClassifier(random_state = 32)\n",
    "\n",
    "#Train model \n",
    "dt_model.fit(X_train, y_train)"
   ]
  },
  {
   "cell_type": "code",
   "execution_count": 79,
   "id": "2eb231b4",
   "metadata": {},
   "outputs": [
    {
     "data": {
      "text/plain": [
       "array([1, 0, 0, ..., 1, 2, 1])"
      ]
     },
     "execution_count": 79,
     "metadata": {},
     "output_type": "execute_result"
    }
   ],
   "source": [
    "dt_model.predict(X_test)"
   ]
  },
  {
   "cell_type": "code",
   "execution_count": 80,
   "id": "d4450861",
   "metadata": {},
   "outputs": [
    {
     "name": "stdout",
     "output_type": "stream",
     "text": [
      "Train accuracy score: 1.0\n",
      "Test accuracy score: 0.98\n"
     ]
    }
   ],
   "source": [
    "# Model evaluation \n",
    "X_train_pred = dt_model.predict(X_train)\n",
    "Train_acc = accuracy_score(X_train_pred, y_train).round(2)\n",
    "\n",
    "print('Train accuracy score:', Train_acc)\n",
    "\n",
    "#Test Data prediction\n",
    "X_test_pred = dt_model.predict(X_test) \n",
    "Test_acc = accuracy_score(X_test_pred, y_test).round(2)\n",
    "\n",
    "print('Test accuracy score:', Test_acc)"
   ]
  },
  {
   "cell_type": "markdown",
   "id": "7bb33118",
   "metadata": {},
   "source": [
    "### c) Random Forest Model \n",
    "\n",
    "Random Forest model is an ensemble learning method primarily used for classification and regression tasks. It builds multiple decision trees and merges them together to get a more accurate and stable prediction."
   ]
  },
  {
   "cell_type": "code",
   "execution_count": 88,
   "id": "4fc669a3",
   "metadata": {},
   "outputs": [
    {
     "data": {
      "text/html": [
       "<style>#sk-container-id-5 {color: black;background-color: white;}#sk-container-id-5 pre{padding: 0;}#sk-container-id-5 div.sk-toggleable {background-color: white;}#sk-container-id-5 label.sk-toggleable__label {cursor: pointer;display: block;width: 100%;margin-bottom: 0;padding: 0.3em;box-sizing: border-box;text-align: center;}#sk-container-id-5 label.sk-toggleable__label-arrow:before {content: \"▸\";float: left;margin-right: 0.25em;color: #696969;}#sk-container-id-5 label.sk-toggleable__label-arrow:hover:before {color: black;}#sk-container-id-5 div.sk-estimator:hover label.sk-toggleable__label-arrow:before {color: black;}#sk-container-id-5 div.sk-toggleable__content {max-height: 0;max-width: 0;overflow: hidden;text-align: left;background-color: #f0f8ff;}#sk-container-id-5 div.sk-toggleable__content pre {margin: 0.2em;color: black;border-radius: 0.25em;background-color: #f0f8ff;}#sk-container-id-5 input.sk-toggleable__control:checked~div.sk-toggleable__content {max-height: 200px;max-width: 100%;overflow: auto;}#sk-container-id-5 input.sk-toggleable__control:checked~label.sk-toggleable__label-arrow:before {content: \"▾\";}#sk-container-id-5 div.sk-estimator input.sk-toggleable__control:checked~label.sk-toggleable__label {background-color: #d4ebff;}#sk-container-id-5 div.sk-label input.sk-toggleable__control:checked~label.sk-toggleable__label {background-color: #d4ebff;}#sk-container-id-5 input.sk-hidden--visually {border: 0;clip: rect(1px 1px 1px 1px);clip: rect(1px, 1px, 1px, 1px);height: 1px;margin: -1px;overflow: hidden;padding: 0;position: absolute;width: 1px;}#sk-container-id-5 div.sk-estimator {font-family: monospace;background-color: #f0f8ff;border: 1px dotted black;border-radius: 0.25em;box-sizing: border-box;margin-bottom: 0.5em;}#sk-container-id-5 div.sk-estimator:hover {background-color: #d4ebff;}#sk-container-id-5 div.sk-parallel-item::after {content: \"\";width: 100%;border-bottom: 1px solid gray;flex-grow: 1;}#sk-container-id-5 div.sk-label:hover label.sk-toggleable__label {background-color: #d4ebff;}#sk-container-id-5 div.sk-serial::before {content: \"\";position: absolute;border-left: 1px solid gray;box-sizing: border-box;top: 0;bottom: 0;left: 50%;z-index: 0;}#sk-container-id-5 div.sk-serial {display: flex;flex-direction: column;align-items: center;background-color: white;padding-right: 0.2em;padding-left: 0.2em;position: relative;}#sk-container-id-5 div.sk-item {position: relative;z-index: 1;}#sk-container-id-5 div.sk-parallel {display: flex;align-items: stretch;justify-content: center;background-color: white;position: relative;}#sk-container-id-5 div.sk-item::before, #sk-container-id-5 div.sk-parallel-item::before {content: \"\";position: absolute;border-left: 1px solid gray;box-sizing: border-box;top: 0;bottom: 0;left: 50%;z-index: -1;}#sk-container-id-5 div.sk-parallel-item {display: flex;flex-direction: column;z-index: 1;position: relative;background-color: white;}#sk-container-id-5 div.sk-parallel-item:first-child::after {align-self: flex-end;width: 50%;}#sk-container-id-5 div.sk-parallel-item:last-child::after {align-self: flex-start;width: 50%;}#sk-container-id-5 div.sk-parallel-item:only-child::after {width: 0;}#sk-container-id-5 div.sk-dashed-wrapped {border: 1px dashed gray;margin: 0 0.4em 0.5em 0.4em;box-sizing: border-box;padding-bottom: 0.4em;background-color: white;}#sk-container-id-5 div.sk-label label {font-family: monospace;font-weight: bold;display: inline-block;line-height: 1.2em;}#sk-container-id-5 div.sk-label-container {text-align: center;}#sk-container-id-5 div.sk-container {/* jupyter's `normalize.less` sets `[hidden] { display: none; }` but bootstrap.min.css set `[hidden] { display: none !important; }` so we also need the `!important` here to be able to override the default hidden behavior on the sphinx rendered scikit-learn.org. See: https://github.com/scikit-learn/scikit-learn/issues/21755 */display: inline-block !important;position: relative;}#sk-container-id-5 div.sk-text-repr-fallback {display: none;}</style><div id=\"sk-container-id-5\" class=\"sk-top-container\"><div class=\"sk-text-repr-fallback\"><pre>RandomForestClassifier(random_state=30)</pre><b>In a Jupyter environment, please rerun this cell to show the HTML representation or trust the notebook. <br />On GitHub, the HTML representation is unable to render, please try loading this page with nbviewer.org.</b></div><div class=\"sk-container\" hidden><div class=\"sk-item\"><div class=\"sk-estimator sk-toggleable\"><input class=\"sk-toggleable__control sk-hidden--visually\" id=\"sk-estimator-id-5\" type=\"checkbox\" checked><label for=\"sk-estimator-id-5\" class=\"sk-toggleable__label sk-toggleable__label-arrow\">RandomForestClassifier</label><div class=\"sk-toggleable__content\"><pre>RandomForestClassifier(random_state=30)</pre></div></div></div></div></div>"
      ],
      "text/plain": [
       "RandomForestClassifier(random_state=30)"
      ]
     },
     "execution_count": 88,
     "metadata": {},
     "output_type": "execute_result"
    }
   ],
   "source": [
    "rf_model = RandomForestClassifier(n_estimators=100, random_state = 30)\n",
    "\n",
    "#Train model \n",
    "rf_model.fit(X_train, y_train)"
   ]
  },
  {
   "cell_type": "code",
   "execution_count": 89,
   "id": "6e314f21",
   "metadata": {},
   "outputs": [
    {
     "data": {
      "text/plain": [
       "array([1, 0, 0, ..., 1, 2, 1])"
      ]
     },
     "execution_count": 89,
     "metadata": {},
     "output_type": "execute_result"
    }
   ],
   "source": [
    "# prediction \n",
    "rf_model.predict(X_test)"
   ]
  },
  {
   "cell_type": "code",
   "execution_count": 90,
   "id": "a37246d0",
   "metadata": {},
   "outputs": [
    {
     "name": "stdout",
     "output_type": "stream",
     "text": [
      "Train accuracy score: 1.0\n",
      "Test accuracy score: 0.99\n"
     ]
    }
   ],
   "source": [
    "# Model evaluation \n",
    "X_train_pred = rf_model.predict(X_train)\n",
    "Train_acc = accuracy_score(X_train_pred, y_train).round(2)\n",
    "\n",
    "print('Train accuracy score:', Train_acc)\n",
    "\n",
    "#Test Data prediction\n",
    "X_test_pred = rf_model.predict(X_test) \n",
    "Test_acc = accuracy_score(X_test_pred, y_test).round(2)\n",
    "\n",
    "print('Test accuracy score:', Test_acc)"
   ]
  },
  {
   "cell_type": "markdown",
   "id": "faf0f48e",
   "metadata": {},
   "source": [
    "### d)  AdaBoost Model \n",
    "\n",
    "Adaboost, short for Adaptive Boosting, is a powerful ensemble machine learning technique, particularly effective for classification problems and less prone to overfitting. "
   ]
  },
  {
   "cell_type": "code",
   "execution_count": 24,
   "id": "a79f4be6",
   "metadata": {},
   "outputs": [
    {
     "data": {
      "text/html": [
       "<style>#sk-container-id-1 {color: black;background-color: white;}#sk-container-id-1 pre{padding: 0;}#sk-container-id-1 div.sk-toggleable {background-color: white;}#sk-container-id-1 label.sk-toggleable__label {cursor: pointer;display: block;width: 100%;margin-bottom: 0;padding: 0.3em;box-sizing: border-box;text-align: center;}#sk-container-id-1 label.sk-toggleable__label-arrow:before {content: \"▸\";float: left;margin-right: 0.25em;color: #696969;}#sk-container-id-1 label.sk-toggleable__label-arrow:hover:before {color: black;}#sk-container-id-1 div.sk-estimator:hover label.sk-toggleable__label-arrow:before {color: black;}#sk-container-id-1 div.sk-toggleable__content {max-height: 0;max-width: 0;overflow: hidden;text-align: left;background-color: #f0f8ff;}#sk-container-id-1 div.sk-toggleable__content pre {margin: 0.2em;color: black;border-radius: 0.25em;background-color: #f0f8ff;}#sk-container-id-1 input.sk-toggleable__control:checked~div.sk-toggleable__content {max-height: 200px;max-width: 100%;overflow: auto;}#sk-container-id-1 input.sk-toggleable__control:checked~label.sk-toggleable__label-arrow:before {content: \"▾\";}#sk-container-id-1 div.sk-estimator input.sk-toggleable__control:checked~label.sk-toggleable__label {background-color: #d4ebff;}#sk-container-id-1 div.sk-label input.sk-toggleable__control:checked~label.sk-toggleable__label {background-color: #d4ebff;}#sk-container-id-1 input.sk-hidden--visually {border: 0;clip: rect(1px 1px 1px 1px);clip: rect(1px, 1px, 1px, 1px);height: 1px;margin: -1px;overflow: hidden;padding: 0;position: absolute;width: 1px;}#sk-container-id-1 div.sk-estimator {font-family: monospace;background-color: #f0f8ff;border: 1px dotted black;border-radius: 0.25em;box-sizing: border-box;margin-bottom: 0.5em;}#sk-container-id-1 div.sk-estimator:hover {background-color: #d4ebff;}#sk-container-id-1 div.sk-parallel-item::after {content: \"\";width: 100%;border-bottom: 1px solid gray;flex-grow: 1;}#sk-container-id-1 div.sk-label:hover label.sk-toggleable__label {background-color: #d4ebff;}#sk-container-id-1 div.sk-serial::before {content: \"\";position: absolute;border-left: 1px solid gray;box-sizing: border-box;top: 0;bottom: 0;left: 50%;z-index: 0;}#sk-container-id-1 div.sk-serial {display: flex;flex-direction: column;align-items: center;background-color: white;padding-right: 0.2em;padding-left: 0.2em;position: relative;}#sk-container-id-1 div.sk-item {position: relative;z-index: 1;}#sk-container-id-1 div.sk-parallel {display: flex;align-items: stretch;justify-content: center;background-color: white;position: relative;}#sk-container-id-1 div.sk-item::before, #sk-container-id-1 div.sk-parallel-item::before {content: \"\";position: absolute;border-left: 1px solid gray;box-sizing: border-box;top: 0;bottom: 0;left: 50%;z-index: -1;}#sk-container-id-1 div.sk-parallel-item {display: flex;flex-direction: column;z-index: 1;position: relative;background-color: white;}#sk-container-id-1 div.sk-parallel-item:first-child::after {align-self: flex-end;width: 50%;}#sk-container-id-1 div.sk-parallel-item:last-child::after {align-self: flex-start;width: 50%;}#sk-container-id-1 div.sk-parallel-item:only-child::after {width: 0;}#sk-container-id-1 div.sk-dashed-wrapped {border: 1px dashed gray;margin: 0 0.4em 0.5em 0.4em;box-sizing: border-box;padding-bottom: 0.4em;background-color: white;}#sk-container-id-1 div.sk-label label {font-family: monospace;font-weight: bold;display: inline-block;line-height: 1.2em;}#sk-container-id-1 div.sk-label-container {text-align: center;}#sk-container-id-1 div.sk-container {/* jupyter's `normalize.less` sets `[hidden] { display: none; }` but bootstrap.min.css set `[hidden] { display: none !important; }` so we also need the `!important` here to be able to override the default hidden behavior on the sphinx rendered scikit-learn.org. See: https://github.com/scikit-learn/scikit-learn/issues/21755 */display: inline-block !important;position: relative;}#sk-container-id-1 div.sk-text-repr-fallback {display: none;}</style><div id=\"sk-container-id-1\" class=\"sk-top-container\"><div class=\"sk-text-repr-fallback\"><pre>AdaBoostClassifier(random_state=32)</pre><b>In a Jupyter environment, please rerun this cell to show the HTML representation or trust the notebook. <br />On GitHub, the HTML representation is unable to render, please try loading this page with nbviewer.org.</b></div><div class=\"sk-container\" hidden><div class=\"sk-item\"><div class=\"sk-estimator sk-toggleable\"><input class=\"sk-toggleable__control sk-hidden--visually\" id=\"sk-estimator-id-1\" type=\"checkbox\" checked><label for=\"sk-estimator-id-1\" class=\"sk-toggleable__label sk-toggleable__label-arrow\">AdaBoostClassifier</label><div class=\"sk-toggleable__content\"><pre>AdaBoostClassifier(random_state=32)</pre></div></div></div></div></div>"
      ],
      "text/plain": [
       "AdaBoostClassifier(random_state=32)"
      ]
     },
     "execution_count": 24,
     "metadata": {},
     "output_type": "execute_result"
    }
   ],
   "source": [
    "# Create an instance of logistic model \n",
    "ab_model = AdaBoostClassifier(n_estimators=50,random_state = 32)\n",
    "\n",
    "#Train model \n",
    "ab_model.fit(X_train, y_train)"
   ]
  },
  {
   "cell_type": "code",
   "execution_count": 48,
   "id": "2ab9e085",
   "metadata": {},
   "outputs": [
    {
     "data": {
      "text/plain": [
       "array([1, 0, 0, ..., 1, 2, 1])"
      ]
     },
     "execution_count": 48,
     "metadata": {},
     "output_type": "execute_result"
    }
   ],
   "source": [
    "#prediction \n",
    "ab_model.predict(X_test)"
   ]
  },
  {
   "cell_type": "code",
   "execution_count": 49,
   "id": "844f20bc",
   "metadata": {},
   "outputs": [
    {
     "name": "stdout",
     "output_type": "stream",
     "text": [
      "Train accuracy score: 0.94\n",
      "Test accuracy score: 0.95\n"
     ]
    }
   ],
   "source": [
    "# Model evaluation \n",
    "X_train_pred = ab_model.predict(X_train)\n",
    "Train_acc = accuracy_score(X_train_pred, y_train).round(2)\n",
    "\n",
    "print('Train accuracy score:', Train_acc)\n",
    "\n",
    "#Test Data prediction\n",
    "X_test_pred = ab_model.predict(X_test) \n",
    "Test_acc = accuracy_score(X_test_pred, y_test).round(2)\n",
    "\n",
    "print('Test accuracy score:', Test_acc)"
   ]
  },
  {
   "cell_type": "markdown",
   "id": "c2701672",
   "metadata": {},
   "source": [
    "### e)  Support Vector Machine\n",
    "\n",
    "* Support Vector Machine (SVM) is a powerful and versatile supervised machine learning algorithm used for both classification and regression tasks. It's particularly popular in classification problems. SVM is sensitive to the scale of the data, so it's important to standardize the features."
   ]
  },
  {
   "cell_type": "code",
   "execution_count": 97,
   "id": "4fc76fc2",
   "metadata": {},
   "outputs": [],
   "source": [
    "# Initialize the SVM object \n",
    "svm_model = SVC(kernel='linear', random_state=32)"
   ]
  },
  {
   "cell_type": "code",
   "execution_count": 98,
   "id": "91d3976e",
   "metadata": {},
   "outputs": [],
   "source": [
    "# Standardize the features\n",
    "scaler = StandardScaler()\n",
    "X_train_scaled = scaler.fit_transform(X_train)\n",
    "X_test_scaled = scaler.transform(X_test)"
   ]
  },
  {
   "cell_type": "code",
   "execution_count": 99,
   "id": "320e283d",
   "metadata": {},
   "outputs": [
    {
     "data": {
      "text/html": [
       "<style>#sk-container-id-6 {color: black;background-color: white;}#sk-container-id-6 pre{padding: 0;}#sk-container-id-6 div.sk-toggleable {background-color: white;}#sk-container-id-6 label.sk-toggleable__label {cursor: pointer;display: block;width: 100%;margin-bottom: 0;padding: 0.3em;box-sizing: border-box;text-align: center;}#sk-container-id-6 label.sk-toggleable__label-arrow:before {content: \"▸\";float: left;margin-right: 0.25em;color: #696969;}#sk-container-id-6 label.sk-toggleable__label-arrow:hover:before {color: black;}#sk-container-id-6 div.sk-estimator:hover label.sk-toggleable__label-arrow:before {color: black;}#sk-container-id-6 div.sk-toggleable__content {max-height: 0;max-width: 0;overflow: hidden;text-align: left;background-color: #f0f8ff;}#sk-container-id-6 div.sk-toggleable__content pre {margin: 0.2em;color: black;border-radius: 0.25em;background-color: #f0f8ff;}#sk-container-id-6 input.sk-toggleable__control:checked~div.sk-toggleable__content {max-height: 200px;max-width: 100%;overflow: auto;}#sk-container-id-6 input.sk-toggleable__control:checked~label.sk-toggleable__label-arrow:before {content: \"▾\";}#sk-container-id-6 div.sk-estimator input.sk-toggleable__control:checked~label.sk-toggleable__label {background-color: #d4ebff;}#sk-container-id-6 div.sk-label input.sk-toggleable__control:checked~label.sk-toggleable__label {background-color: #d4ebff;}#sk-container-id-6 input.sk-hidden--visually {border: 0;clip: rect(1px 1px 1px 1px);clip: rect(1px, 1px, 1px, 1px);height: 1px;margin: -1px;overflow: hidden;padding: 0;position: absolute;width: 1px;}#sk-container-id-6 div.sk-estimator {font-family: monospace;background-color: #f0f8ff;border: 1px dotted black;border-radius: 0.25em;box-sizing: border-box;margin-bottom: 0.5em;}#sk-container-id-6 div.sk-estimator:hover {background-color: #d4ebff;}#sk-container-id-6 div.sk-parallel-item::after {content: \"\";width: 100%;border-bottom: 1px solid gray;flex-grow: 1;}#sk-container-id-6 div.sk-label:hover label.sk-toggleable__label {background-color: #d4ebff;}#sk-container-id-6 div.sk-serial::before {content: \"\";position: absolute;border-left: 1px solid gray;box-sizing: border-box;top: 0;bottom: 0;left: 50%;z-index: 0;}#sk-container-id-6 div.sk-serial {display: flex;flex-direction: column;align-items: center;background-color: white;padding-right: 0.2em;padding-left: 0.2em;position: relative;}#sk-container-id-6 div.sk-item {position: relative;z-index: 1;}#sk-container-id-6 div.sk-parallel {display: flex;align-items: stretch;justify-content: center;background-color: white;position: relative;}#sk-container-id-6 div.sk-item::before, #sk-container-id-6 div.sk-parallel-item::before {content: \"\";position: absolute;border-left: 1px solid gray;box-sizing: border-box;top: 0;bottom: 0;left: 50%;z-index: -1;}#sk-container-id-6 div.sk-parallel-item {display: flex;flex-direction: column;z-index: 1;position: relative;background-color: white;}#sk-container-id-6 div.sk-parallel-item:first-child::after {align-self: flex-end;width: 50%;}#sk-container-id-6 div.sk-parallel-item:last-child::after {align-self: flex-start;width: 50%;}#sk-container-id-6 div.sk-parallel-item:only-child::after {width: 0;}#sk-container-id-6 div.sk-dashed-wrapped {border: 1px dashed gray;margin: 0 0.4em 0.5em 0.4em;box-sizing: border-box;padding-bottom: 0.4em;background-color: white;}#sk-container-id-6 div.sk-label label {font-family: monospace;font-weight: bold;display: inline-block;line-height: 1.2em;}#sk-container-id-6 div.sk-label-container {text-align: center;}#sk-container-id-6 div.sk-container {/* jupyter's `normalize.less` sets `[hidden] { display: none; }` but bootstrap.min.css set `[hidden] { display: none !important; }` so we also need the `!important` here to be able to override the default hidden behavior on the sphinx rendered scikit-learn.org. See: https://github.com/scikit-learn/scikit-learn/issues/21755 */display: inline-block !important;position: relative;}#sk-container-id-6 div.sk-text-repr-fallback {display: none;}</style><div id=\"sk-container-id-6\" class=\"sk-top-container\"><div class=\"sk-text-repr-fallback\"><pre>SVC(kernel=&#x27;linear&#x27;, random_state=32)</pre><b>In a Jupyter environment, please rerun this cell to show the HTML representation or trust the notebook. <br />On GitHub, the HTML representation is unable to render, please try loading this page with nbviewer.org.</b></div><div class=\"sk-container\" hidden><div class=\"sk-item\"><div class=\"sk-estimator sk-toggleable\"><input class=\"sk-toggleable__control sk-hidden--visually\" id=\"sk-estimator-id-6\" type=\"checkbox\" checked><label for=\"sk-estimator-id-6\" class=\"sk-toggleable__label sk-toggleable__label-arrow\">SVC</label><div class=\"sk-toggleable__content\"><pre>SVC(kernel=&#x27;linear&#x27;, random_state=32)</pre></div></div></div></div></div>"
      ],
      "text/plain": [
       "SVC(kernel='linear', random_state=32)"
      ]
     },
     "execution_count": 99,
     "metadata": {},
     "output_type": "execute_result"
    }
   ],
   "source": [
    "#Train the model \n",
    "svm_model.fit(X_train_scaled, y_train)"
   ]
  },
  {
   "cell_type": "code",
   "execution_count": 101,
   "id": "3756e6a4",
   "metadata": {},
   "outputs": [
    {
     "data": {
      "text/plain": [
       "array([1, 1, 0, ..., 1, 2, 2])"
      ]
     },
     "execution_count": 101,
     "metadata": {},
     "output_type": "execute_result"
    }
   ],
   "source": [
    "# make predictions \n",
    "svm_model.predict(X_test_scaled)"
   ]
  },
  {
   "cell_type": "code",
   "execution_count": 86,
   "id": "8ee43394",
   "metadata": {},
   "outputs": [
    {
     "name": "stdout",
     "output_type": "stream",
     "text": [
      "Train accuracy score: 0.6\n",
      "Test accuracy score: 0.59\n"
     ]
    }
   ],
   "source": [
    "# Model evaluation \n",
    "X_train_pred = svm_model.predict(X_train_scaled)\n",
    "Train_acc = accuracy_score(X_train_pred, y_train).round(2)\n",
    "\n",
    "print('Train accuracy score:', Train_acc)\n",
    "\n",
    "#Test Data prediction\n",
    "X_test_pred = svm_model.predict(X_test_scaled) \n",
    "Test_acc = accuracy_score(X_test_pred, y_test).round(2)\n",
    "\n",
    "print('Test accuracy score:', Test_acc)"
   ]
  },
  {
   "cell_type": "code",
   "execution_count": 104,
   "id": "717d504b",
   "metadata": {},
   "outputs": [
    {
     "name": "stdout",
     "output_type": "stream",
     "text": [
      "                        Train Accuracy  Test Accuracy\n",
      "Model                                                \n",
      "Logistic Regression               0.55           0.54\n",
      "Decision Tree Model               0.10           0.98\n",
      "Random Forest                     0.10           0.99\n",
      "Ada Boost Model                   0.94           0.95\n",
      "Support Vector Machine            0.60           0.59\n"
     ]
    }
   ],
   "source": [
    "# Create Accuracy Scores Model Table \n",
    "models = ['Logistic Regression','Decision Tree Model', 'Random Forest', 'Ada Boost Model','Support Vector Machine']\n",
    "train_accuracies = [0.55, 0.1, 0.1, 0.94, 0.60]\n",
    "test_accuracies = [0.54, 0.98, 0.99, 0.95, 0.59]\n",
    "\n",
    "# Create a dictionary with the data\n",
    "data = {\n",
    "    'Model': models,\n",
    "    'Train Accuracy': train_accuracies,\n",
    "    'Test Accuracy': test_accuracies\n",
    "}\n",
    "# Create a DataFrame\n",
    "df_accuracy = pd.DataFrame(data)\n",
    "\n",
    "# Set 'Model' as the index for better display\n",
    "df_accuracy.set_index('Model', inplace=True)\n",
    "\n",
    "# Display the table\n",
    "print(df_accuracy)"
   ]
  },
  {
   "cell_type": "markdown",
   "id": "21eb95c6",
   "metadata": {},
   "source": [
    "#### Best Model \n",
    "* We picked Ada Boost model for prediction because it has a score of 95% and is less prone to overfitting. "
   ]
  },
  {
   "cell_type": "markdown",
   "id": "74ce56cf",
   "metadata": {},
   "source": [
    "# Create a Prediction System "
   ]
  },
  {
   "cell_type": "code",
   "execution_count": 67,
   "id": "79a9bcf4",
   "metadata": {},
   "outputs": [
    {
     "name": "stdout",
     "output_type": "stream",
     "text": [
      "[1]\n",
      "Low Risk: Your pregnancy is currently considered low risk. Continue with your regular prenatal check-ups and maintain a healthy lifestyle.\n"
     ]
    }
   ],
   "source": [
    "input_data = (23,98.6,76,129,83,18.5,40,6) \n",
    "\n",
    "# Convert the input data into a numpy array\n",
    "input_data_as_numpy = np.asarray(input_data)\n",
    "\n",
    "# Reshape the array since we are predicting for one instance\n",
    "input_data_reshape = input_data_as_numpy.reshape(1,-1)\n",
    "\n",
    "# Making prediction and printing the appropriate message\n",
    "prediction = ab_model.predict(input_data_reshape)\n",
    "print(prediction)\n",
    "             \n",
    "if prediction[0] == 0:\n",
    "    print('High Risk Pregnancy: It is crucial to seek urgent medical attention to ensure the health and safety of both you and your baby. Please consult your healthcare provider immediately.')\n",
    "elif prediction[0] == 2:\n",
    "    print('Medium Risk Pregnancy: It is important to seek medical attention to monitor and manage any potential complications. Please schedule an appointment with your healthcare provider soon.') \n",
    "elif prediction[0] == 1:\n",
    "    print('Low Risk: Your pregnancy is currently considered low risk. Continue with your regular prenatal check-ups and maintain a healthy lifestyle.')\n",
    "else:\n",
    "    print('Error: Please enter valid numerical values')\n",
    "    "
   ]
  },
  {
   "cell_type": "markdown",
   "id": "334d5411",
   "metadata": {},
   "source": [
    "# Save Trained Model for Deployment "
   ]
  },
  {
   "cell_type": "code",
   "execution_count": 51,
   "id": "b362e7ad",
   "metadata": {},
   "outputs": [],
   "source": [
    "filename = 'trained_model.sav'\n",
    "pickle.dump(ab_model, open(filename, 'wb'))"
   ]
  },
  {
   "cell_type": "code",
   "execution_count": 52,
   "id": "486be1bd",
   "metadata": {},
   "outputs": [],
   "source": [
    "loaded_model = pickle.load(open('trained_model.sav', 'rb'))"
   ]
  },
  {
   "cell_type": "code",
   "execution_count": 68,
   "id": "f0563e16",
   "metadata": {},
   "outputs": [
    {
     "name": "stdout",
     "output_type": "stream",
     "text": [
      "[1]\n",
      "Low Risk: Your pregnancy is currently considered low risk. Continue with your regular prenatal check-ups and maintain a healthy lifestyle.\n"
     ]
    }
   ],
   "source": [
    "input_data = (23,98.6,76,129,83,18.5,40,6)\n",
    "\n",
    "# Convert the input data into a numpy array\n",
    "input_data_as_numpy = np.asarray(input_data)\n",
    "\n",
    "# Reshape the array since we are predicting for one instance\n",
    "input_data_reshape = input_data_as_numpy.reshape(1,-1)\n",
    "\n",
    "# Making prediction\n",
    "prediction = loaded_model.predict(input_data_reshape)\n",
    "print (prediction)\n",
    "\n",
    "if prediction[0] == 0:\n",
    "    print('High Risk Pregnancy: It is crucial to seek urgent medical attention to ensure the health and safety of both you and your baby. Please consult your healthcare provider immediately.')\n",
    "elif prediction[0] == 2:\n",
    "    print('Medium Risk Pregnancy: It is important to seek medical attention to monitor and manage any potential complications. Please schedule an appointment with your healthcare provider soon.') \n",
    "elif prediction[0] == 1:\n",
    "    print('Low Risk: Your pregnancy is currently considered low risk. Continue with your regular prenatal check-ups and maintain a healthy lifestyle.')\n",
    "else:\n",
    "    print('Error: Please enter valid numerical values')"
   ]
  },
  {
   "cell_type": "code",
   "execution_count": 37,
   "id": "c2c4e128",
   "metadata": {},
   "outputs": [
    {
     "name": "stdout",
     "output_type": "stream",
     "text": [
      "Age\n",
      "Body Temperature\n",
      "Heart Rate\n",
      "Systolic Blood Pressure\n",
      "Diastolic Blood Pressure\n",
      "BMI\n",
      "Blood Glucose HbA1c\n",
      "Blood Glucose Fasting\n"
     ]
    }
   ],
   "source": [
    "for column in X.columns:\n",
    "    print(column)"
   ]
  },
  {
   "cell_type": "code",
   "execution_count": null,
   "id": "4833d3f0",
   "metadata": {},
   "outputs": [],
   "source": []
  }
 ],
 "metadata": {
  "kernelspec": {
   "display_name": "Python 3 (ipykernel)",
   "language": "python",
   "name": "python3"
  },
  "language_info": {
   "codemirror_mode": {
    "name": "ipython",
    "version": 3
   },
   "file_extension": ".py",
   "mimetype": "text/x-python",
   "name": "python",
   "nbconvert_exporter": "python",
   "pygments_lexer": "ipython3",
   "version": "3.11.3"
  }
 },
 "nbformat": 4,
 "nbformat_minor": 5
}
